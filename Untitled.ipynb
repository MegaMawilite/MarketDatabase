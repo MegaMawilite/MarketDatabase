{
 "cells": [
  {
   "cell_type": "code",
   "execution_count": 8,
   "id": "8dd2efc4",
   "metadata": {},
   "outputs": [],
   "source": [
    "import sqlite3\n",
    "connect = sqlite3.connect(\"bdd_finance.db\")"
   ]
  },
  {
   "cell_type": "code",
   "execution_count": 9,
   "id": "65599220",
   "metadata": {},
   "outputs": [],
   "source": [
    "cur = connect.cursor()"
   ]
  },
  {
   "cell_type": "code",
   "execution_count": 10,
   "id": "9690f24e",
   "metadata": {},
   "outputs": [
    {
     "data": {
      "text/plain": [
       "<sqlite3.Cursor at 0x1c30f509110>"
      ]
     },
     "execution_count": 10,
     "metadata": {},
     "output_type": "execute_result"
    }
   ],
   "source": [
    "# creating tables\n",
    "\n",
    "# equipe\n",
    "cur.execute(\"\"\"CREATE TABLE IF NOT EXISTS `equipe` (\n",
    "  `nom` varchar(100) NOT NULL,\n",
    "  `style` varchar(100) NOT NULL,\n",
    "  `chef` varchar(100) NOT NULL,\n",
    "  PRIMARY KEY (`nom`)\n",
    ")\"\"\")\n",
    "\n",
    "# transaction\n",
    "cur.execute(\"\"\"CREATE TABLE IF NOT EXISTS `transaction` (\n",
    "  `nom` varchar(100) NOT NULL,\n",
    "  `nomEquipe` varchar(100) NOT NULL,\n",
    "  `date` date NOT NULL,\n",
    "  `lieu` varchar(100) NOT NULL,\n",
    "  `prix` int(11) NOT NULL,\n",
    "  PRIMARY KEY (`nom`)\n",
    ")\"\"\")\n",
    "\n",
    "# trader\n",
    "cur.execute(\"\"\"CREATE TABLE IF NOT EXISTS `trader` (\n",
    "  `nom` varchar(100) NOT NULL,\n",
    "  `classe_actif` varchar(100) NOT NULL,\n",
    "  `anneeExperience` int(11) NOT NULL,\n",
    "  `nomEquipe` varchar(100) NOT NULL,\n",
    "  PRIMARY KEY (`nom`)\n",
    ")\"\"\")"
   ]
  },
  {
   "cell_type": "code",
   "execution_count": 11,
   "id": "9e6c55bd",
   "metadata": {},
   "outputs": [],
   "source": [
    "# populating tables\n",
    "\n",
    "# equipe\n",
    "cur.execute(\"\"\"\n",
    "INSERT INTO `equipe` (`nom`, `style`, `chef`) VALUES\n",
    "('equipe1', 'market making', 'Leonardo'),\n",
    "('equipe2', 'arbitrage', 'Michaelgelo'),\n",
    "('equipe3', 'trading de volatilite', 'Raphael'),\n",
    "('equipe4', 'trading haute frequence', 'Donatello'),\n",
    "('equipe5', 'arbitrage statistique', 'Smith'),\n",
    "('equipe6', 'arbitrage statistique', 'Smith'),\n",
    "('equipe7', 'strategie fond de fond', 'Ray');\"\"\")\n",
    "\n",
    "# transaction\n",
    "cur.execute(\"\"\"\n",
    "INSERT INTO `transaction`\n",
    "(`nom`, `nomEquipe`, `date`, `lieu`, `prix`) VALUES\n",
    "('Amazon', 'equipe3', '2010-07-12', 'USA', 100),\n",
    "('Apple Inc', 'equipe1', '2014-09-05', 'USA', 150),\n",
    "('AXA SA', 'equipe1', '2021-06-15', 'PARIS', 26),\n",
    "('Dassault Aviation', 'equipe6', '2016-01-01', 'PARIS', 140),\n",
    "('Dubai Elec', 'equipe3', '2020-11-22', 'DUBAI', 1),\n",
    "('ETF Vanguard', 'equipe7', '2015-02-22', 'LA', 200),\n",
    "('Naspers', 'equipe2', '1997-08-16', 'SOUTH AFRICA', 120),\n",
    "('PetroChina', 'equipe5', '2019-04-20', 'HONG KONG', 10),\n",
    "('TotalEnergies', 'equipe2', '2004-09-03', 'PARIS', 57);\"\"\")\n",
    "\n",
    "# trader\n",
    "cur.execute(\"\"\"\n",
    "INSERT INTO `trader`\n",
    "(`nom`, `classe_actif`, `anneeExperience`, `nomEquipe`) VALUES\n",
    "('Cedrick', 'commodities', 10, 'equipe1'),\n",
    "('Gaelle', 'exotic', 4, 'equipe3'),\n",
    "('Georges', 'CDS', 20, 'equipe6'),\n",
    "('Jordan', 'change', 2, 'equipe2'),\n",
    "('Patrick', 'action', 10, 'equipe1'),\n",
    "('Yannick', 'fixed income', 10, 'equipe1');\"\"\")\n",
    "\n",
    "connect.commit()"
   ]
  }
 ],
 "metadata": {
  "kernelspec": {
   "display_name": "Python 3 (ipykernel)",
   "language": "python",
   "name": "python3"
  },
  "language_info": {
   "codemirror_mode": {
    "name": "ipython",
    "version": 3
   },
   "file_extension": ".py",
   "mimetype": "text/x-python",
   "name": "python",
   "nbconvert_exporter": "python",
   "pygments_lexer": "ipython3",
   "version": "3.9.12"
  }
 },
 "nbformat": 4,
 "nbformat_minor": 5
}
